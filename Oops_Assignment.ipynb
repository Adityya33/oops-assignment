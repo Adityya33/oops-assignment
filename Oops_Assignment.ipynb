{
  "nbformat": 4,
  "nbformat_minor": 0,
  "metadata": {
    "colab": {
      "provenance": []
    },
    "kernelspec": {
      "name": "python3",
      "display_name": "Python 3"
    },
    "language_info": {
      "name": "python"
    }
  },
  "cells": [
    {
      "cell_type": "markdown",
      "source": [
        "# Theoritical questions"
      ],
      "metadata": {
        "id": "RNUmwlmtTJbU"
      }
    },
    {
      "cell_type": "markdown",
      "source": [
        "1.  What is Object-Oriented Programming (OOP)?\n",
        "    - Object Oriented Programming (OOP) is a programming paradigm based on the concept of objects, which can contain data and code.\n",
        "2.  What is a class in OOP?\n",
        "    - A class in Object-Oriented Programming (OOP) is a blueprint or prototype for creating objects. It encapsulates data for the object and methods to manipulate that data.\n",
        "3.  What is an object in OOp?\n",
        "    - In Object-Oriented Programming (OOP), an object is a self-contained unit that contains both:\n",
        "     Data (called attributes or properties)\n",
        "     Behavior (called methods, which are functions associated with the object)\n",
        "4.   What is the difference between abstraction and encapsulation?\n",
        "     - Abstraction means hiding the complex implementation details and showing only the essential features of an object or system.\n",
        "     - Encapsulation is about bundling data and methods that operate on that data into a single unit (a class) and restricting direct access to some of the object’s components.\n",
        "5.  What are dunder methods in Python?\n",
        "    - Dunder methods in Python (short for \"double underscore\" methods) are special methods with names that start and end with double underscores, like __init__, __str__, and __add__.\n",
        "6.  Explain the concept of inheritance in OOP.\n",
        "    - Inheritance is a core concept in OOP that allows a class to inherit properties and behaviors (attributes and methods) from another class.\n",
        "7.  What is polymorphism in OOP?\n",
        "    - Polymorphism means \"many forms\", it allows objects of different classes to be treated as objects of a common base class, while each object can still behave differently.\n",
        "8.  How is encapsulation achieved in Python?\n",
        "    - Encapsulation is the OOP concept of hiding internal data and only allowing it to be accessed or modified through controlled interfaces (methods).\n",
        "9.  What is a constructor in Python?\n",
        "    - A constructor in Python is a special method that gets automatically called when you create a new object from a class.\n",
        "10. What are class and static methods in Python?\n",
        "    - A class method is bound to the class, not the instance. It takes the class itself as the first argument, usually named cls.\n",
        "    - A static method is just like a regular function that happens to live in a class. It takes neither self nor cls as its first argument.\n",
        "11. What is method overloading in Python?\n",
        "    - Method Overloading means defining multiple methods with the same name but different parameters (number, type, or order) within the same class.\n",
        "12. What is method overriding in OOP?\n",
        "    - Method overriding in Object-Oriented Programming (OOP) is a feature that allows a subclass (child class) to provide a specific implementation of a method that is already defined in its superclass (parent class).\n",
        "13. What is a property decorator in Python?\n",
        "    - A property decorator (@property) is a built-in way to define getter methods in a class so that you can access a method like it’s an attribute (without needing parentheses).\n",
        "14. Why is polymorphism important in OOP?\n",
        "    - Code Reusability and Extensibility\n",
        "    - Simplifies Code Maintenance\n",
        "    - Supports Dynamic Behavior\n",
        "    - Improves Readability\n",
        "15. What is an abstract class in Python?\n",
        "    - An abstract class in Python is a class that cannot be instantiated directly and is meant to be a blueprint for other classes. It often contains one or more abstract methods—methods declared but without an implementation—that must be implemented by any subclass.\n",
        "16. What are the advantages of OOP?\n",
        "    - Modularity\n",
        "    - Reusability\n",
        "    - Scalability\n",
        "    - Maintainability\n",
        "    - Flexibility through Polymorphism\n",
        "    - Real-world Modeling\n",
        "17. What is the difference between a class variable and an instance variable?\n",
        "    - Class Variable:\n",
        "     - Belongs to the class itself, shared by all instances of that class.\n",
        "     - There is only one copy of a class variable, no matter how many objects are created.\n",
        "     - If you change a class variable, the change is reflected across all instances (unless overridden in an instance).\n",
        "    - Instance Variable:\n",
        "     - Belongs to an individual object (instance) of the class.\n",
        "     - Each instance has its own copy of instance variables.\n",
        "     - Changing an instance variable only affects that specific object, not others.\n",
        "18. What is multiple inheritance in Python?\n",
        "    - Multiple inheritance in Python is when a class inherits from more than one parent class. This means the child class can access attributes and methods from all of its parent classes.\n",
        "19. Explain the purpose of ‘’__str__’ and ‘__repr__’ ‘ methods in Python.\n",
        "    - __str__ :\n",
        "     - Defines the informal, readable string representation of an object.\n",
        "    - __repr__ :\n",
        "     - Defines the official string representation of an object.\n",
        "20. What is the significance of the ‘super()’ function in Python?\n",
        "    - The super() function in Python is used to call methods from a parent (or superclass) in a subclass, especially when you want to extend or modify the behavior of inherited methods.\n",
        "21. What is the significance of the __del__ method in Python?\n",
        "    - The __del__ method in Python is known as the destructor method. It is called when an object is about to be destroyed—that is, when its reference count drops to zero and the object is garbage collected.\n",
        "22. What is the difference between @staticmethod and @classmethod in Python?\n",
        "    - @staticmethod :\n",
        "     - Defines a method that does not receive an implicit first argument (neither self nor cls).\n",
        "    - @classmethod :\n",
        "     - Defines a method that receives the class itself as the first argument, conventionally named cls.\n",
        "23. How does polymorphism work in Python with inheritance?\n",
        "    - Polymorphism in Python with inheritance means that a child class can override methods of its parent class, and when you call those methods on an instance, the version that matches the actual object’s type gets executed—even if you're referring to the object via a parent class reference.\n",
        "24. What is method chaining in Python OOP?\n",
        "    - Method chaining in Python OOP is a technique where multiple methods are called sequentially on the same object in a single line, by having each method return the object itself (self). This allows you to “chain” method calls one after another smoothly.\n",
        "25. What is the purpose of the __call__ method in Python?\n",
        "    - Purpose of __call__:\n",
        "     - To make an object callable.\n",
        "     - To allow objects to behave like functions, which can be useful for things like function wrappers, decorators, or stateful function objects.\n",
        "     - To encapsulate behavior and state together and then invoke that behavior directly.\n",
        "\n"
      ],
      "metadata": {
        "id": "TILAWmIXTQ0U"
      }
    },
    {
      "cell_type": "markdown",
      "source": [
        "# practical questions"
      ],
      "metadata": {
        "id": "wxLu3juHb6NS"
      }
    },
    {
      "cell_type": "code",
      "execution_count": null,
      "metadata": {
        "id": "mTslmMYPTDnb"
      },
      "outputs": [],
      "source": []
    }
  ]
}